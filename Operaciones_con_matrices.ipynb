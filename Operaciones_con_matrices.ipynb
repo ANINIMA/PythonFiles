{
  "nbformat": 4,
  "nbformat_minor": 0,
  "metadata": {
    "colab": {
      "provenance": [],
      "authorship_tag": "ABX9TyOKybRMS/YvOpB/ta+X24Ax",
      "include_colab_link": true
    },
    "kernelspec": {
      "name": "python3",
      "display_name": "Python 3"
    },
    "language_info": {
      "name": "python"
    }
  },
  "cells": [
    {
      "cell_type": "markdown",
      "metadata": {
        "id": "view-in-github",
        "colab_type": "text"
      },
      "source": [
        "<a href=\"https://colab.research.google.com/github/happodaikarin/PythonFiles/blob/main/Operaciones_con_matrices.ipynb\" target=\"_parent\"><img src=\"https://colab.research.google.com/assets/colab-badge.svg\" alt=\"Open In Colab\"/></a>"
      ]
    },
    {
      "cell_type": "markdown",
      "source": [
        "**Operaciones con matrices**\n",
        "\n",
        "---\n",
        "Producto interno  entre una matriz y un vector.\n",
        "\n",
        "producto escalar o producto interno o producto punto.\n",
        "operacion algebraica que toma dos secuencias de numeros de igual longitud y retorna un unico numero.\n",
        "\n",
        "\n",
        "\n",
        "\n"
      ],
      "metadata": {
        "id": "viqjtInJgGwu"
      }
    },
    {
      "cell_type": "code",
      "source": [
        "import numpy as np\n",
        "\n",
        "\n",
        "escalar = 5.6023\n",
        "vector = np.array([3,4])\n",
        "matriz = np.array([[4,5],[3,4],[5,6]])\n"
      ],
      "metadata": {
        "id": "pI_d5WVcgErB"
      },
      "execution_count": null,
      "outputs": []
    },
    {
      "cell_type": "code",
      "source": [
        "\"produto elemento a elemento\"\n",
        "A = matriz * vector\n",
        "print(A)"
      ],
      "metadata": {
        "colab": {
          "base_uri": "https://localhost:8080/"
        },
        "id": "uAo9IaC4ife9",
        "outputId": "064a4990-301d-42d6-cb4b-e9d5a9d5e2eb"
      },
      "execution_count": null,
      "outputs": [
        {
          "output_type": "stream",
          "name": "stdout",
          "text": [
            "[[12 20]\n",
            " [ 9 16]\n",
            " [15 24]]\n"
          ]
        }
      ]
    },
    {
      "cell_type": "code",
      "source": [
        "\"producto escalar\"\n",
        "\n",
        "B = matriz.dot(vector)\n",
        "print(B)"
      ],
      "metadata": {
        "colab": {
          "base_uri": "https://localhost:8080/"
        },
        "id": "eRdu_9Tmi8pb",
        "outputId": "40954b37-0a76-4539-8c5e-d88d2a9fe453"
      },
      "execution_count": null,
      "outputs": [
        {
          "output_type": "stream",
          "name": "stdout",
          "text": [
            "[32 25 39]\n"
          ]
        }
      ]
    },
    {
      "cell_type": "markdown",
      "source": [
        "**PRODUCTO INTERNO O ESCALAR ENTRE DOS MATRICES**"
      ],
      "metadata": {
        "id": "CJue6N_ljqm3"
      }
    },
    {
      "cell_type": "code",
      "source": [
        "A = np.array([[1,2,4],[5,6,7],[8,9,2]])\n",
        "B = np.array([[2,3],[4,5],[11,12]])\n",
        "\n",
        "print('Dimension de A ',A.shape)\n",
        "print('Dimension de B ',B.shape)\n",
        "\n"
      ],
      "metadata": {
        "colab": {
          "base_uri": "https://localhost:8080/"
        },
        "id": "vh9_Kvj4jvQy",
        "outputId": "8e92f962-9494-4450-c3aa-38a4437234c9"
      },
      "execution_count": null,
      "outputs": [
        {
          "output_type": "stream",
          "name": "stdout",
          "text": [
            "Dimension de A  (3, 3)\n",
            "Dimension de B  (3, 2)\n"
          ]
        }
      ]
    },
    {
      "cell_type": "code",
      "source": [
        "N = A.dot(B)\n",
        "print(N)"
      ],
      "metadata": {
        "colab": {
          "base_uri": "https://localhost:8080/"
        },
        "id": "hB9-32EJlNSB",
        "outputId": "f2a9c8ce-e514-4ba1-e3a7-94e05f7a0c78"
      },
      "execution_count": null,
      "outputs": [
        {
          "output_type": "stream",
          "name": "stdout",
          "text": [
            "[[ 54  61]\n",
            " [111 129]\n",
            " [ 74  93]]\n"
          ]
        }
      ]
    },
    {
      "cell_type": "code",
      "source": [
        "C = B.T.dot(A)\n",
        "print(C)"
      ],
      "metadata": {
        "colab": {
          "base_uri": "https://localhost:8080/"
        },
        "id": "-aSbwEPJlZiM",
        "outputId": "3de69239-da74-4829-a64f-41bc957c5dde"
      },
      "execution_count": null,
      "outputs": [
        {
          "output_type": "stream",
          "name": "stdout",
          "text": [
            "[[110 127  58]\n",
            " [124 144  71]]\n"
          ]
        }
      ]
    },
    {
      "cell_type": "markdown",
      "source": [
        "**PROPIEDADES DEL PRODUCTO ESCALAR**\n",
        "Sean A , B , C  vectores en el plano y sea m un escalar\n",
        "\n",
        "1 Conmutativa:\n",
        "A.B=B.A\n",
        "\n",
        "2 Distributiva respecto a una suma vectorial:\n",
        "A. (B.C) = A.B + A.C\n",
        "\n",
        "3 Asociativa respecto al producto por un escalar m:\n",
        "\n",
        "m(A.B) = (m.A).B.(m.B)\n",
        "\n",
        "\n"
      ],
      "metadata": {
        "id": "rZYY8elcM-LV"
      }
    },
    {
      "cell_type": "markdown",
      "source": [
        "**Asociativa**\n"
      ],
      "metadata": {
        "id": "ac-Q2MymNspv"
      }
    },
    {
      "cell_type": "code",
      "source": [
        "A = np.array([[2,3],[5,7],[11,13]])\n",
        "B = np.array([[1,3],[2,1]])\n",
        "C = np.array([[3,1],[4,2]])"
      ],
      "metadata": {
        "id": "-_6NeK3GPlYV"
      },
      "execution_count": null,
      "outputs": []
    },
    {
      "cell_type": "code",
      "source": [
        "\"A.B.C\"\n",
        "ABC = A.dot(B.dot(C))\n",
        "print(ABC)"
      ],
      "metadata": {
        "colab": {
          "base_uri": "https://localhost:8080/"
        },
        "id": "Cp35fvKSNuld",
        "outputId": "af1c1f07-9c42-4969-c3a9-0005bd0bb87f"
      },
      "execution_count": null,
      "outputs": [
        {
          "output_type": "stream",
          "name": "stdout",
          "text": [
            "[[13504 15642  7463]\n",
            " [28206 32673 15597]\n",
            " [19672 22790 10895]]\n"
          ]
        }
      ]
    },
    {
      "cell_type": "code",
      "source": [
        "\"(AB)C\"\n",
        "\n",
        "AB_C = A.dot(B).dot(C)\n",
        "\n",
        "print(AB_C)\n",
        "\n",
        "\n"
      ],
      "metadata": {
        "colab": {
          "base_uri": "https://localhost:8080/"
        },
        "id": "o6R0Fd9bNwhv",
        "outputId": "36677343-a42c-43a1-a9c1-a9b56b68da23"
      },
      "execution_count": null,
      "outputs": [
        {
          "output_type": "stream",
          "name": "stdout",
          "text": [
            "[[13504 15642  7463]\n",
            " [28206 32673 15597]\n",
            " [19672 22790 10895]]\n"
          ]
        }
      ]
    },
    {
      "cell_type": "code",
      "source": [
        "ABC == AB_C\n",
        "\n"
      ],
      "metadata": {
        "colab": {
          "base_uri": "https://localhost:8080/"
        },
        "id": "5vHp7CS_Oga0",
        "outputId": "e2ce61b3-5419-492b-ddb0-801d6c640cf9"
      },
      "execution_count": null,
      "outputs": [
        {
          "output_type": "execute_result",
          "data": {
            "text/plain": [
              "array([[ True,  True,  True],\n",
              "       [ True,  True,  True],\n",
              "       [ True,  True,  True]])"
            ]
          },
          "metadata": {},
          "execution_count": 43
        }
      ]
    },
    {
      "cell_type": "markdown",
      "source": [
        "**Distributiva**\n",
        "\n"
      ],
      "metadata": {
        "id": "8rmWKIapOtzc"
      }
    },
    {
      "cell_type": "code",
      "source": [
        "\"A(B+C)\""
      ],
      "metadata": {
        "id": "tsc7TI52Ow68"
      },
      "execution_count": null,
      "outputs": []
    },
    {
      "cell_type": "code",
      "source": [
        "D = A.dot(B+C.T)\n",
        "print(\"D: \",D)"
      ],
      "metadata": {
        "colab": {
          "base_uri": "https://localhost:8080/"
        },
        "id": "jJD1PUv6O1cF",
        "outputId": "a3906825-b683-4e27-d06d-51c4ae4362d9"
      },
      "execution_count": null,
      "outputs": [
        {
          "output_type": "stream",
          "name": "stdout",
          "text": [
            "D:  [[ 17  23]\n",
            " [ 41  56]\n",
            " [ 83 116]]\n"
          ]
        }
      ]
    },
    {
      "cell_type": "code",
      "source": [
        "E = A.dot(B)+ A.dot(C)\n",
        "print(\"E: \",E)"
      ],
      "metadata": {
        "colab": {
          "base_uri": "https://localhost:8080/"
        },
        "id": "GxMl1zTsPMVI",
        "outputId": "f529629a-0dac-4dff-94c0-609d353d1ec4"
      },
      "execution_count": null,
      "outputs": [
        {
          "output_type": "stream",
          "name": "stdout",
          "text": [
            "E:  [[ 26  17]\n",
            " [ 62  41]\n",
            " [122  83]]\n"
          ]
        }
      ]
    },
    {
      "cell_type": "code",
      "source": [
        "D==E"
      ],
      "metadata": {
        "colab": {
          "base_uri": "https://localhost:8080/"
        },
        "id": "kUG4tOjbPyWM",
        "outputId": "d6d15a31-4875-4c43-c531-a1de36576f6d"
      },
      "execution_count": null,
      "outputs": [
        {
          "output_type": "execute_result",
          "data": {
            "text/plain": [
              "array([[False, False],\n",
              "       [False, False],\n",
              "       [False, False]])"
            ]
          },
          "metadata": {},
          "execution_count": 52
        }
      ]
    },
    {
      "cell_type": "markdown",
      "source": [
        "**Conmutativa**"
      ],
      "metadata": {
        "id": "3QjUb0O7QCxX"
      }
    },
    {
      "cell_type": "code",
      "source": [
        "\"(AB+AC)m\"\n",
        "m = 3\n",
        "G = (A.dot(B) + A.dot(C))*3\n",
        "print(G)"
      ],
      "metadata": {
        "colab": {
          "base_uri": "https://localhost:8080/"
        },
        "id": "DSY6ibmCP9ka",
        "outputId": "773bb57f-8809-468a-d7bd-0d553071243b"
      },
      "execution_count": null,
      "outputs": [
        {
          "output_type": "stream",
          "name": "stdout",
          "text": [
            "[[ 78  51]\n",
            " [186 123]\n",
            " [366 249]]\n"
          ]
        }
      ]
    },
    {
      "cell_type": "markdown",
      "source": [
        "**ECUACIONES LINEALES**\n",
        "\n",
        "sistema de ecuaciones lineales , conjunto de ecuaciones lineales, con el objetivo de encontrar valores desconocidos conocidos como variables\n",
        "x1,x2,x3\n",
        "\n",
        "![lineal.svg](data:image/svg+xml;base64,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)"
      ],
      "metadata": {
        "id": "vLrI-hJzRHE3"
      }
    },
    {
      "cell_type": "code",
      "source": [
        "%matplotlib inline\n",
        "import numpy as np\n",
        "import matplotlib.pyplot as plt\n",
        "\n",
        "x = np.arange(-5,5)\n",
        "y = np.arange(-5,5)\n",
        "z = np.arange(-5,5)\n",
        "\n",
        "e1 = 3*x + 5*y\n",
        "e2 = 2*x + 3*y\n",
        "\n",
        "\n",
        "plt.figure()\n",
        "\n",
        "plt.plot(x,e1)\n",
        "plt.plot(y,e2)\n",
        "\n",
        "\n",
        "plt.xlim(-5,5)\n",
        "plt.ylim(5,-5)\n",
        "\n",
        "plt.axvline(x=0, color='grey')\n",
        "plt.axhline(y=0, color=\"grey\")\n",
        "\n",
        "\n",
        "\n",
        "\n"
      ],
      "metadata": {
        "colab": {
          "base_uri": "https://localhost:8080/",
          "height": 447
        },
        "id": "jfjLbZ8DRnZY",
        "outputId": "574724d3-d3fd-4131-f4d7-cd5a68bad66b"
      },
      "execution_count": null,
      "outputs": [
        {
          "output_type": "execute_result",
          "data": {
            "text/plain": [
              "<matplotlib.lines.Line2D at 0x7d1786b6d3c0>"
            ]
          },
          "metadata": {},
          "execution_count": 62
        },
        {
          "output_type": "display_data",
          "data": {
            "text/plain": [
              "<Figure size 640x480 with 1 Axes>"
            ],
            "image/png": "[encoded data removed]"
          },
          "metadata": {}
        }
      ]
    },
    {
      "cell_type": "markdown",
      "source": [
        "**TIPOS ESPECIALES DE MATRICES:  IDENTIDAD, INVERSA, SINGULARES**\n",
        "\n",
        "\n",
        "\n"
      ],
      "metadata": {
        "id": "GHoQQMAoVlgL"
      }
    },
    {
      "cell_type": "markdown",
      "source": [
        "**MATRIZ IDENTIDAD**"
      ],
      "metadata": {
        "id": "K0kBUHfDVy7k"
      }
    },
    {
      "cell_type": "code",
      "source": [
        "identidad= np.eye(4)\n",
        "\n",
        "print(identidad)\n",
        "\n"
      ],
      "metadata": {
        "colab": {
          "base_uri": "https://localhost:8080/"
        },
        "id": "5LF2pKCFV1Ga",
        "outputId": "e7de3794-7377-40bd-9d89-9b5edf28242a"
      },
      "execution_count": null,
      "outputs": [
        {
          "output_type": "stream",
          "name": "stdout",
          "text": [
            "[[1. 0. 0. 0.]\n",
            " [0. 1. 0. 0.]\n",
            " [0. 0. 1. 0.]\n",
            " [0. 0. 0. 1.]]\n"
          ]
        }
      ]
    },
    {
      "cell_type": "code",
      "source": [
        "vector = np.array([[2],[3],[5],[7]])\n",
        "\n",
        "print(identidad.dot(vector))\n"
      ],
      "metadata": {
        "colab": {
          "base_uri": "https://localhost:8080/"
        },
        "id": "1Ii1V5KFWFkV",
        "outputId": "02c8f106-7777-45b1-f933-5bfcf5969380"
      },
      "execution_count": null,
      "outputs": [
        {
          "output_type": "stream",
          "name": "stdout",
          "text": [
            "[[2.]\n",
            " [3.]\n",
            " [5.]\n",
            " [7.]]\n"
          ]
        }
      ]
    },
    {
      "cell_type": "code",
      "source": [
        "\n",
        "print(identidad.dot(vector))"
      ],
      "metadata": {
        "colab": {
          "base_uri": "https://localhost:8080/"
        },
        "id": "lCpMil0QWQtn",
        "outputId": "c9e09061-d49c-48a8-cf19-a846976fd53b"
      },
      "execution_count": null,
      "outputs": [
        {
          "output_type": "stream",
          "name": "stdout",
          "text": [
            "[[2.]\n",
            " [3.]\n",
            " [5.]\n",
            " [7.]]\n"
          ]
        }
      ]
    },
    {
      "cell_type": "markdown",
      "source": [
        "**MAtriz inversa**\n",
        "\n",
        "A.\"algo\" = indentidad"
      ],
      "metadata": {
        "id": "Pgf5Fb8iXND7"
      }
    },
    {
      "cell_type": "code",
      "source": [
        "#Definimos la matriz a la que queremos calcular la inversoa\n",
        "A = np.array([[1,0,1],[0,1,1],[-1,1,1]])\n",
        "print(A)"
      ],
      "metadata": {
        "colab": {
          "base_uri": "https://localhost:8080/"
        },
        "id": "GvporemTXUvW",
        "outputId": "bbc6c787-ae5f-4546-d475-6a003412e515"
      },
      "execution_count": null,
      "outputs": [
        {
          "output_type": "stream",
          "name": "stdout",
          "text": [
            "[[ 1  0  1]\n",
            " [ 0  1  1]\n",
            " [-1  1  1]]\n"
          ]
        }
      ]
    },
    {
      "cell_type": "code",
      "source": [
        "#Matriz inversa\n",
        "\n",
        "inversa_A = np.linalg.inv(A)##forma de calcular la matriz inversa\n",
        "print(inversa_A)"
      ],
      "metadata": {
        "colab": {
          "base_uri": "https://localhost:8080/"
        },
        "id": "-_sEqkvKXsmi",
        "outputId": "9e10ed30-2e56-4fb7-d517-57285c5500ee"
      },
      "execution_count": null,
      "outputs": [
        {
          "output_type": "stream",
          "name": "stdout",
          "text": [
            "[[ 0.  1. -1.]\n",
            " [-1.  2. -1.]\n",
            " [ 1. -1.  1.]]\n"
          ]
        }
      ]
    },
    {
      "cell_type": "markdown",
      "source": [
        "Ese algo es la matriz inversa\n",
        "esta seria la ecuacion:\n",
        "**A-A^-1 = id**\n",
        "donde A^-1 es la matriz inversa **A**"
      ],
      "metadata": {
        "id": "eZLbEX3uYIEZ"
      }
    },
    {
      "cell_type": "code",
      "source": [
        "print(A.dot(inversa_A))"
      ],
      "metadata": {
        "colab": {
          "base_uri": "https://localhost:8080/"
        },
        "id": "OqoYuo5nYJfp",
        "outputId": "7b986d50-a03e-4b67-eebb-2146d047a182"
      },
      "execution_count": null,
      "outputs": [
        {
          "output_type": "stream",
          "name": "stdout",
          "text": [
            "[[1. 0. 0.]\n",
            " [0. 1. 0.]\n",
            " [0. 0. 1.]]\n"
          ]
        }
      ]
    },
    {
      "cell_type": "markdown",
      "source": [
        "**Matriz singular**\n",
        "una matriz singular es cuando no podemos calcular la inversa\n"
      ],
      "metadata": {
        "id": "XhAWyz_UYqRE"
      }
    },
    {
      "cell_type": "code",
      "source": [
        "singular = np.array([[1,1],[1,1]])\n",
        "\n",
        "print(singular)"
      ],
      "metadata": {
        "colab": {
          "base_uri": "https://localhost:8080/"
        },
        "id": "uLxKl7LSXw4a",
        "outputId": "6026239e-3f8e-44c1-8fd0-f378b4b0b8cb"
      },
      "execution_count": null,
      "outputs": [
        {
          "output_type": "stream",
          "name": "stdout",
          "text": [
            "[[1 1]\n",
            " [1 1]]\n"
          ]
        }
      ]
    },
    {
      "cell_type": "markdown",
      "source": [
        "**aplicacion de la inversa de una matriz para resolver ecuaciones lineales**\n",
        "\n",
        "![eculineales.png](data:image/png;base64,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)"
      ],
      "metadata": {
        "id": "EFaCdy0gZojS"
      }
    },
    {
      "cell_type": "code",
      "source": [
        "import numpy as np\n"
      ],
      "metadata": {
        "id": "bVXcsK27Znjq"
      },
      "execution_count": null,
      "outputs": []
    },
    {
      "cell_type": "code",
      "source": [
        "np.set_printoptions(suppress = True)\n"
      ],
      "metadata": {
        "id": "NxRE7902Z1aR"
      },
      "execution_count": null,
      "outputs": []
    },
    {
      "cell_type": "code",
      "source": [
        "A = np.array([[3,1],[2,1]])\n",
        "print(A)"
      ],
      "metadata": {
        "colab": {
          "base_uri": "https://localhost:8080/"
        },
        "id": "43WBzHh0XAm7",
        "outputId": "0df8b49c-b520-4081-b16f-c57edd908fb3"
      },
      "execution_count": null,
      "outputs": [
        {
          "output_type": "stream",
          "name": "stdout",
          "text": [
            "[[3 1]\n",
            " [2 1]]\n"
          ]
        }
      ]
    },
    {
      "cell_type": "code",
      "source": [
        "b = np.array([[1],[1]])\n",
        "print(b)"
      ],
      "metadata": {
        "colab": {
          "base_uri": "https://localhost:8080/"
        },
        "id": "sHFgyXqxaX6Z",
        "outputId": "1e2a8812-880c-4f90-a400-ddd31c59cd2e"
      },
      "execution_count": null,
      "outputs": [
        {
          "output_type": "stream",
          "name": "stdout",
          "text": [
            "[[1]\n",
            " [1]]\n"
          ]
        }
      ]
    },
    {
      "cell_type": "code",
      "source": [
        "#Encotramos la inversa de A\n",
        "\n",
        "inversa_A = np.linalg.inv(A)\n",
        "print(inversa_A)\n"
      ],
      "metadata": {
        "colab": {
          "base_uri": "https://localhost:8080/"
        },
        "id": "xIoYHFRFaiXP",
        "outputId": "f96ac480-ff49-436d-d2b9-265bf6fcab44"
      },
      "execution_count": null,
      "outputs": [
        {
          "output_type": "stream",
          "name": "stdout",
          "text": [
            "[[ 1. -1.]\n",
            " [-2.  3.]]\n"
          ]
        }
      ]
    },
    {
      "cell_type": "code",
      "source": [
        "x = inversa_A.dot(b)\n",
        "print(x)\n",
        "\n"
      ],
      "metadata": {
        "colab": {
          "base_uri": "https://localhost:8080/"
        },
        "id": "JicFgkVzaiUf",
        "outputId": "a83b85f8-d02e-44f0-95fb-f139db0dfe25"
      },
      "execution_count": null,
      "outputs": [
        {
          "output_type": "stream",
          "name": "stdout",
          "text": [
            "[[0.]\n",
            " [1.]]\n"
          ]
        }
      ]
    },
    {
      "cell_type": "code",
      "source": [
        "#solucion grafica\n",
        "\n",
        "y_1 = - 3*x + 1\n",
        "y_2 = - 2*x + 1\n",
        "\n",
        "plt.figure()\n",
        "\n",
        "plt.plot(x, y_1)\n",
        "plt.plot(x, y_2)\n",
        "\n",
        "plt.xlim(-2, 2)\n",
        "plt.ylim(-2, 2)\n",
        "\n",
        "plt.axvline(x=0, color='grey')\n",
        "plt.axhline(y=0, color='grey')\n",
        "\n"
      ],
      "metadata": {
        "colab": {
          "base_uri": "https://localhost:8080/",
          "height": 452
        },
        "id": "Tq4yWZIubQ0z",
        "outputId": "ad6b1845-59f6-41a1-f2e8-90dfd74f4996"
      },
      "execution_count": null,
      "outputs": [
        {
          "output_type": "execute_result",
          "data": {
            "text/plain": [
              "<matplotlib.lines.Line2D at 0x7d17890fc940>"
            ]
          },
          "metadata": {},
          "execution_count": 80
        },
        {
          "output_type": "display_data",
          "data": {
            "text/plain": [
              "<Figure size 640x480 with 1 Axes>"
            ],
            "image/png": "[encoded data removed]"
          },
          "metadata": {}
        }
      ]
    },
    {
      "cell_type": "markdown",
      "source": [
        "solucion manual.\n",
        "\n",
        "    3 . 0 + 1 . 1 = 1\n",
        "    2 . 0 + 1 . 1 = 1\n"
      ],
      "metadata": {
        "id": "ZYXOzETKboSp"
      }
    },
    {
      "cell_type": "code",
      "source": [
        "print(A.dot(x))"
      ],
      "metadata": {
        "colab": {
          "base_uri": "https://localhost:8080/"
        },
        "id": "vncptaQWbp_Q",
        "outputId": "5fe3803d-83ea-4db5-a0cc-0e2d65bee5f8"
      },
      "execution_count": null,
      "outputs": [
        {
          "output_type": "stream",
          "name": "stdout",
          "text": [
            "[[1.]\n",
            " [1.]]\n"
          ]
        }
      ]
    },
    {
      "cell_type": "code",
      "source": [
        "inversaA = np.array([[3,2,5],[2,-1,4],[-1,2,1]])\n",
        "##matriz inversa\n",
        "C = np.linalg.inv(inversaA)\n",
        "print(A)\n",
        "\n",
        "print(C)"
      ],
      "metadata": {
        "colab": {
          "base_uri": "https://localhost:8080/"
        },
        "id": "qH7AKHCJcuAo",
        "outputId": "d7ba927f-aa41-48af-8399-94e41f5c0c21"
      },
      "execution_count": null,
      "outputs": [
        {
          "output_type": "stream",
          "name": "stdout",
          "text": [
            "[[ 2 -2  2]\n",
            " [ 2  1  0]\n",
            " [ 3 -2  2]]\n",
            "[[ 0.375      -0.33333333 -0.54166667]\n",
            " [ 0.25       -0.33333333  0.08333333]\n",
            " [-0.125       0.33333333  0.29166667]]\n"
          ]
        }
      ]
    },
    {
      "cell_type": "code",
      "source": [],
      "metadata": {
        "id": "anGzL-Hwc9Zg"
      },
      "execution_count": null,
      "outputs": []
    },
    {
      "cell_type": "markdown",
      "source": [
        "hacer el producto escalar entre el vector y la matriz nos da la misma matriz"
      ],
      "metadata": {
        "id": "ymmPFadMWwhE"
      }
    }
  ]
}